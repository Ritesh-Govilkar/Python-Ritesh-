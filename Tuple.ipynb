{
 "cells": [
  {
   "cell_type": "code",
   "execution_count": 5,
   "id": "3b4d3f17-ab84-4beb-a574-0f1c160e663d",
   "metadata": {},
   "outputs": [
    {
     "name": "stdout",
     "output_type": "stream",
     "text": [
      "<class 'tuple'>\n",
      "<class 'tuple'>\n",
      "<class 'tuple'>\n"
     ]
    }
   ],
   "source": [
    "tuple1 = (\"a\",\"b\",\"c\",\"d\")\n",
    "tuple2 = (1,2,3,4,5)\n",
    "tuple3 = (True,False,True)\n",
    "tuple4 = (\"abc\",123,True)\n",
    "print(type(tuple4))\n",
    "print(type(tuple3))\n",
    "print(type(tuple2))"
   ]
  },
  {
   "cell_type": "code",
   "execution_count": 7,
   "id": "d8ba8887-4e74-4d5d-bf7b-cb05d4386132",
   "metadata": {},
   "outputs": [
    {
     "name": "stdout",
     "output_type": "stream",
     "text": [
      "('GFG', 'python')\n",
      "(4, 5, 6)\n",
      "(2, 5, 9)\n",
      "()\n",
      "<class 'tuple'>\n",
      "<class 'int'>\n"
     ]
    }
   ],
   "source": [
    "tup1 = (\"GFG\", \"python\")\n",
    "print(tup1)\n",
    "tup2 = 4,5,6\n",
    "print(tup2)\n",
    "tup3 = tuple([2,5,9])\n",
    "print(tup3)\n",
    "tup = ()\n",
    "print(tup)\n",
    "tup4 = (10,)\n",
    "print(type(tup4))\n",
    "tup5 = (10)\n",
    "print(type(tup5))"
   ]
  },
  {
   "cell_type": "code",
   "execution_count": 25,
   "id": "58c89402-2e96-4814-8401-2f704075e739",
   "metadata": {},
   "outputs": [
    {
     "name": "stdout",
     "output_type": "stream",
     "text": [
      "(1, 2, 3, 4, 5, 67, 7, 4, 5)\n",
      "2\n",
      "67\n",
      "(3, 4)\n",
      "(1, 2, 3, 4)\n",
      "(3, 4, 5, 67, 7, 4, 5)\n",
      "(4, 5)\n"
     ]
    }
   ],
   "source": [
    "thistuple = tuple((1,2,3,4,5,67,7,4,5))\n",
    "print(thistuple)\n",
    "print(thistuple[1])\n",
    "print(thistuple[-4])\n",
    "print(thistuple[2:4])\n",
    "print(thistuple[:4])\n",
    "print(thistuple[2:])\n",
    "print(thistuple[-6:-4])"
   ]
  },
  {
   "cell_type": "code",
   "execution_count": 27,
   "id": "e5218f92-c601-48e2-bc99-7c0db7befe2f",
   "metadata": {},
   "outputs": [
    {
     "name": "stdout",
     "output_type": "stream",
     "text": [
      "Yes, 'apple' is in the fruits tuple\n"
     ]
    }
   ],
   "source": [
    "fruits = (\"apple\", \"banana\", \"cherry\")\n",
    "if \"banana\" in thistuple:\n",
    "    print(\"Yes, 'apple' is in the fruits tuple\")"
   ]
  },
  {
   "cell_type": "code",
   "execution_count": null,
   "id": "6ee65d07-40d9-411a-be5c-9e4eb344b0a6",
   "metadata": {},
   "outputs": [],
   "source": []
  }
 ],
 "metadata": {
  "kernelspec": {
   "display_name": "Python [conda env:base] *",
   "language": "python",
   "name": "conda-base-py"
  },
  "language_info": {
   "codemirror_mode": {
    "name": "ipython",
    "version": 3
   },
   "file_extension": ".py",
   "mimetype": "text/x-python",
   "name": "python",
   "nbconvert_exporter": "python",
   "pygments_lexer": "ipython3",
   "version": "3.12.7"
  }
 },
 "nbformat": 4,
 "nbformat_minor": 5
}
